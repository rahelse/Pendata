{
  "nbformat": 4,
  "nbformat_minor": 0,
  "metadata": {
    "colab": {
      "provenance": []
    },
    "kernelspec": {
      "name": "python3",
      "display_name": "Python 3"
    },
    "language_info": {
      "name": "python"
    }
  },
  "cells": [
    {
      "cell_type": "markdown",
      "source": [
        "# Prediksi Gender Berdasarkan Nama"
      ],
      "metadata": {
        "id": "Kw6Ab0Aub5jG"
      }
    },
    {
      "cell_type": "markdown",
      "source": [
        "Data Understanding"
      ],
      "metadata": {
        "id": "CuPLE8ZjcCnd"
      }
    },
    {
      "cell_type": "markdown",
      "source": [
        "Sumber Data\n",
        "Dataset diambil dari link berikut:\n",
        "\n",
        "🔗 https://archive.ics.uci.edu/dataset/591/gender+by+name\n",
        "\n",
        "Dataset ini berasal dari UCI Machine Learning Repository dan berisi informasi mengenai nama depan serta distribusi gendernya berdasarkan data penduduk dari Amerika Serikat, Kanada, Inggris, dan Australia. Data ini telah dikumpulkan dan dirilis untuk keperluan riset klasifikasi nama."
      ],
      "metadata": {
        "id": "n1qdBstJcLeg"
      }
    },
    {
      "cell_type": "markdown",
      "source": [
        "Tujuan\n",
        "\n",
        "Tujuan dari analisis ini adalah untuk mengembangkan model prediktif yang dapat menentukan gender (laki-laki atau perempuan) berdasarkan nama depan seseorang. Model ini nantinya dapat digunakan dalam berbagai aplikasi praktis, seperti:\n",
        "\n",
        "Preprocessing data pengguna\n",
        "\n",
        "Penyesuaian konten atau layanan\n",
        "\n",
        "Pelengkap atribut dalam data demografis"
      ],
      "metadata": {
        "id": "mOW7S8vIcThz"
      }
    },
    {
      "cell_type": "code",
      "execution_count": 1,
      "metadata": {
        "colab": {
          "base_uri": "https://localhost:8080/"
        },
        "id": "g6uUjYMwNgNc",
        "outputId": "97a48455-7a95-4252-99f7-367ab0396d51"
      },
      "outputs": [
        {
          "output_type": "stream",
          "name": "stdout",
          "text": [
            "Collecting ucimlrepo\n",
            "  Downloading ucimlrepo-0.0.7-py3-none-any.whl.metadata (5.5 kB)\n",
            "Requirement already satisfied: pandas>=1.0.0 in /usr/local/lib/python3.11/dist-packages (from ucimlrepo) (2.2.2)\n",
            "Requirement already satisfied: certifi>=2020.12.5 in /usr/local/lib/python3.11/dist-packages (from ucimlrepo) (2025.6.15)\n",
            "Requirement already satisfied: numpy>=1.23.2 in /usr/local/lib/python3.11/dist-packages (from pandas>=1.0.0->ucimlrepo) (2.0.2)\n",
            "Requirement already satisfied: python-dateutil>=2.8.2 in /usr/local/lib/python3.11/dist-packages (from pandas>=1.0.0->ucimlrepo) (2.9.0.post0)\n",
            "Requirement already satisfied: pytz>=2020.1 in /usr/local/lib/python3.11/dist-packages (from pandas>=1.0.0->ucimlrepo) (2025.2)\n",
            "Requirement already satisfied: tzdata>=2022.7 in /usr/local/lib/python3.11/dist-packages (from pandas>=1.0.0->ucimlrepo) (2025.2)\n",
            "Requirement already satisfied: six>=1.5 in /usr/local/lib/python3.11/dist-packages (from python-dateutil>=2.8.2->pandas>=1.0.0->ucimlrepo) (1.17.0)\n",
            "Downloading ucimlrepo-0.0.7-py3-none-any.whl (8.0 kB)\n",
            "Installing collected packages: ucimlrepo\n",
            "Successfully installed ucimlrepo-0.0.7\n"
          ]
        }
      ],
      "source": [
        "pip install ucimlrepo"
      ]
    },
    {
      "cell_type": "code",
      "source": [
        "from ucimlrepo import fetch_ucirepo\n",
        "\n",
        "# fetch dataset\n",
        "gender_by_name = fetch_ucirepo(id=591)\n",
        "\n",
        "# data (as pandas dataframes)\n",
        "X = gender_by_name.data.features\n",
        "y = gender_by_name.data.targets\n",
        "\n",
        "## data (as pandas dataframes)\n",
        "data = gender_by_name.data.original\n",
        "  # menyimpan hasil komputasi ke dalam csv\n",
        "data.to_csv(\"gender_by_name.data.csv\", index=True)\n",
        "print(data.info()) #untuk menampilkan info fitur-fitur yang ada di tabel\n",
        "\n",
        "print(data.head()) #untuk menampilkan 5 baris pertama"
      ],
      "metadata": {
        "colab": {
          "base_uri": "https://localhost:8080/"
        },
        "id": "JupMlaOpNtTr",
        "outputId": "173087c9-5dd8-4163-cd61-5fa1f71de3af"
      },
      "execution_count": 3,
      "outputs": [
        {
          "output_type": "stream",
          "name": "stdout",
          "text": [
            "<class 'pandas.core.frame.DataFrame'>\n",
            "RangeIndex: 147269 entries, 0 to 147268\n",
            "Data columns (total 4 columns):\n",
            " #   Column       Non-Null Count   Dtype  \n",
            "---  ------       --------------   -----  \n",
            " 0   Name         147269 non-null  object \n",
            " 1   Gender       147269 non-null  object \n",
            " 2   Count        147269 non-null  int64  \n",
            " 3   Probability  147269 non-null  float64\n",
            "dtypes: float64(1), int64(1), object(2)\n",
            "memory usage: 4.5+ MB\n",
            "None\n",
            "      Name Gender    Count  Probability\n",
            "0    James      M  5304407     0.014517\n",
            "1     John      M  5260831     0.014398\n",
            "2   Robert      M  4970386     0.013603\n",
            "3  Michael      M  4579950     0.012534\n",
            "4  William      M  4226608     0.011567\n"
          ]
        }
      ]
    },
    {
      "cell_type": "code",
      "source": [
        "display(data) #display dataset"
      ],
      "metadata": {
        "colab": {
          "base_uri": "https://localhost:8080/",
          "height": 424
        },
        "id": "IFYf728BOR-l",
        "outputId": "57f68ce3-5558-4a68-c8d0-847991edf2cd"
      },
      "execution_count": 4,
      "outputs": [
        {
          "output_type": "display_data",
          "data": {
            "text/plain": [
              "           Name Gender    Count   Probability\n",
              "0         James      M  5304407  1.451679e-02\n",
              "1          John      M  5260831  1.439753e-02\n",
              "2        Robert      M  4970386  1.360266e-02\n",
              "3       Michael      M  4579950  1.253414e-02\n",
              "4       William      M  4226608  1.156713e-02\n",
              "...         ...    ...      ...           ...\n",
              "147264   Zylenn      M        1  2.736740e-09\n",
              "147265   Zymeon      M        1  2.736740e-09\n",
              "147266   Zyndel      M        1  2.736740e-09\n",
              "147267   Zyshan      M        1  2.736740e-09\n",
              "147268    Zyton      M        1  2.736740e-09\n",
              "\n",
              "[147269 rows x 4 columns]"
            ],
            "text/html": [
              "\n",
              "  <div id=\"df-bb7cbacf-e869-4fbb-af4b-230ec57b1f48\" class=\"colab-df-container\">\n",
              "    <div>\n",
              "<style scoped>\n",
              "    .dataframe tbody tr th:only-of-type {\n",
              "        vertical-align: middle;\n",
              "    }\n",
              "\n",
              "    .dataframe tbody tr th {\n",
              "        vertical-align: top;\n",
              "    }\n",
              "\n",
              "    .dataframe thead th {\n",
              "        text-align: right;\n",
              "    }\n",
              "</style>\n",
              "<table border=\"1\" class=\"dataframe\">\n",
              "  <thead>\n",
              "    <tr style=\"text-align: right;\">\n",
              "      <th></th>\n",
              "      <th>Name</th>\n",
              "      <th>Gender</th>\n",
              "      <th>Count</th>\n",
              "      <th>Probability</th>\n",
              "    </tr>\n",
              "  </thead>\n",
              "  <tbody>\n",
              "    <tr>\n",
              "      <th>0</th>\n",
              "      <td>James</td>\n",
              "      <td>M</td>\n",
              "      <td>5304407</td>\n",
              "      <td>1.451679e-02</td>\n",
              "    </tr>\n",
              "    <tr>\n",
              "      <th>1</th>\n",
              "      <td>John</td>\n",
              "      <td>M</td>\n",
              "      <td>5260831</td>\n",
              "      <td>1.439753e-02</td>\n",
              "    </tr>\n",
              "    <tr>\n",
              "      <th>2</th>\n",
              "      <td>Robert</td>\n",
              "      <td>M</td>\n",
              "      <td>4970386</td>\n",
              "      <td>1.360266e-02</td>\n",
              "    </tr>\n",
              "    <tr>\n",
              "      <th>3</th>\n",
              "      <td>Michael</td>\n",
              "      <td>M</td>\n",
              "      <td>4579950</td>\n",
              "      <td>1.253414e-02</td>\n",
              "    </tr>\n",
              "    <tr>\n",
              "      <th>4</th>\n",
              "      <td>William</td>\n",
              "      <td>M</td>\n",
              "      <td>4226608</td>\n",
              "      <td>1.156713e-02</td>\n",
              "    </tr>\n",
              "    <tr>\n",
              "      <th>...</th>\n",
              "      <td>...</td>\n",
              "      <td>...</td>\n",
              "      <td>...</td>\n",
              "      <td>...</td>\n",
              "    </tr>\n",
              "    <tr>\n",
              "      <th>147264</th>\n",
              "      <td>Zylenn</td>\n",
              "      <td>M</td>\n",
              "      <td>1</td>\n",
              "      <td>2.736740e-09</td>\n",
              "    </tr>\n",
              "    <tr>\n",
              "      <th>147265</th>\n",
              "      <td>Zymeon</td>\n",
              "      <td>M</td>\n",
              "      <td>1</td>\n",
              "      <td>2.736740e-09</td>\n",
              "    </tr>\n",
              "    <tr>\n",
              "      <th>147266</th>\n",
              "      <td>Zyndel</td>\n",
              "      <td>M</td>\n",
              "      <td>1</td>\n",
              "      <td>2.736740e-09</td>\n",
              "    </tr>\n",
              "    <tr>\n",
              "      <th>147267</th>\n",
              "      <td>Zyshan</td>\n",
              "      <td>M</td>\n",
              "      <td>1</td>\n",
              "      <td>2.736740e-09</td>\n",
              "    </tr>\n",
              "    <tr>\n",
              "      <th>147268</th>\n",
              "      <td>Zyton</td>\n",
              "      <td>M</td>\n",
              "      <td>1</td>\n",
              "      <td>2.736740e-09</td>\n",
              "    </tr>\n",
              "  </tbody>\n",
              "</table>\n",
              "<p>147269 rows × 4 columns</p>\n",
              "</div>\n",
              "    <div class=\"colab-df-buttons\">\n",
              "\n",
              "  <div class=\"colab-df-container\">\n",
              "    <button class=\"colab-df-convert\" onclick=\"convertToInteractive('df-bb7cbacf-e869-4fbb-af4b-230ec57b1f48')\"\n",
              "            title=\"Convert this dataframe to an interactive table.\"\n",
              "            style=\"display:none;\">\n",
              "\n",
              "  <svg xmlns=\"http://www.w3.org/2000/svg\" height=\"24px\" viewBox=\"0 -960 960 960\">\n",
              "    <path d=\"M120-120v-720h720v720H120Zm60-500h600v-160H180v160Zm220 220h160v-160H400v160Zm0 220h160v-160H400v160ZM180-400h160v-160H180v160Zm440 0h160v-160H620v160ZM180-180h160v-160H180v160Zm440 0h160v-160H620v160Z\"/>\n",
              "  </svg>\n",
              "    </button>\n",
              "\n",
              "  <style>\n",
              "    .colab-df-container {\n",
              "      display:flex;\n",
              "      gap: 12px;\n",
              "    }\n",
              "\n",
              "    .colab-df-convert {\n",
              "      background-color: #E8F0FE;\n",
              "      border: none;\n",
              "      border-radius: 50%;\n",
              "      cursor: pointer;\n",
              "      display: none;\n",
              "      fill: #1967D2;\n",
              "      height: 32px;\n",
              "      padding: 0 0 0 0;\n",
              "      width: 32px;\n",
              "    }\n",
              "\n",
              "    .colab-df-convert:hover {\n",
              "      background-color: #E2EBFA;\n",
              "      box-shadow: 0px 1px 2px rgba(60, 64, 67, 0.3), 0px 1px 3px 1px rgba(60, 64, 67, 0.15);\n",
              "      fill: #174EA6;\n",
              "    }\n",
              "\n",
              "    .colab-df-buttons div {\n",
              "      margin-bottom: 4px;\n",
              "    }\n",
              "\n",
              "    [theme=dark] .colab-df-convert {\n",
              "      background-color: #3B4455;\n",
              "      fill: #D2E3FC;\n",
              "    }\n",
              "\n",
              "    [theme=dark] .colab-df-convert:hover {\n",
              "      background-color: #434B5C;\n",
              "      box-shadow: 0px 1px 3px 1px rgba(0, 0, 0, 0.15);\n",
              "      filter: drop-shadow(0px 1px 2px rgba(0, 0, 0, 0.3));\n",
              "      fill: #FFFFFF;\n",
              "    }\n",
              "  </style>\n",
              "\n",
              "    <script>\n",
              "      const buttonEl =\n",
              "        document.querySelector('#df-bb7cbacf-e869-4fbb-af4b-230ec57b1f48 button.colab-df-convert');\n",
              "      buttonEl.style.display =\n",
              "        google.colab.kernel.accessAllowed ? 'block' : 'none';\n",
              "\n",
              "      async function convertToInteractive(key) {\n",
              "        const element = document.querySelector('#df-bb7cbacf-e869-4fbb-af4b-230ec57b1f48');\n",
              "        const dataTable =\n",
              "          await google.colab.kernel.invokeFunction('convertToInteractive',\n",
              "                                                    [key], {});\n",
              "        if (!dataTable) return;\n",
              "\n",
              "        const docLinkHtml = 'Like what you see? Visit the ' +\n",
              "          '<a target=\"_blank\" href=https://colab.research.google.com/notebooks/data_table.ipynb>data table notebook</a>'\n",
              "          + ' to learn more about interactive tables.';\n",
              "        element.innerHTML = '';\n",
              "        dataTable['output_type'] = 'display_data';\n",
              "        await google.colab.output.renderOutput(dataTable, element);\n",
              "        const docLink = document.createElement('div');\n",
              "        docLink.innerHTML = docLinkHtml;\n",
              "        element.appendChild(docLink);\n",
              "      }\n",
              "    </script>\n",
              "  </div>\n",
              "\n",
              "\n",
              "    <div id=\"df-973b45fa-dfb4-4e3b-a1e7-555a035a88e1\">\n",
              "      <button class=\"colab-df-quickchart\" onclick=\"quickchart('df-973b45fa-dfb4-4e3b-a1e7-555a035a88e1')\"\n",
              "                title=\"Suggest charts\"\n",
              "                style=\"display:none;\">\n",
              "\n",
              "<svg xmlns=\"http://www.w3.org/2000/svg\" height=\"24px\"viewBox=\"0 0 24 24\"\n",
              "     width=\"24px\">\n",
              "    <g>\n",
              "        <path d=\"M19 3H5c-1.1 0-2 .9-2 2v14c0 1.1.9 2 2 2h14c1.1 0 2-.9 2-2V5c0-1.1-.9-2-2-2zM9 17H7v-7h2v7zm4 0h-2V7h2v10zm4 0h-2v-4h2v4z\"/>\n",
              "    </g>\n",
              "</svg>\n",
              "      </button>\n",
              "\n",
              "<style>\n",
              "  .colab-df-quickchart {\n",
              "      --bg-color: #E8F0FE;\n",
              "      --fill-color: #1967D2;\n",
              "      --hover-bg-color: #E2EBFA;\n",
              "      --hover-fill-color: #174EA6;\n",
              "      --disabled-fill-color: #AAA;\n",
              "      --disabled-bg-color: #DDD;\n",
              "  }\n",
              "\n",
              "  [theme=dark] .colab-df-quickchart {\n",
              "      --bg-color: #3B4455;\n",
              "      --fill-color: #D2E3FC;\n",
              "      --hover-bg-color: #434B5C;\n",
              "      --hover-fill-color: #FFFFFF;\n",
              "      --disabled-bg-color: #3B4455;\n",
              "      --disabled-fill-color: #666;\n",
              "  }\n",
              "\n",
              "  .colab-df-quickchart {\n",
              "    background-color: var(--bg-color);\n",
              "    border: none;\n",
              "    border-radius: 50%;\n",
              "    cursor: pointer;\n",
              "    display: none;\n",
              "    fill: var(--fill-color);\n",
              "    height: 32px;\n",
              "    padding: 0;\n",
              "    width: 32px;\n",
              "  }\n",
              "\n",
              "  .colab-df-quickchart:hover {\n",
              "    background-color: var(--hover-bg-color);\n",
              "    box-shadow: 0 1px 2px rgba(60, 64, 67, 0.3), 0 1px 3px 1px rgba(60, 64, 67, 0.15);\n",
              "    fill: var(--button-hover-fill-color);\n",
              "  }\n",
              "\n",
              "  .colab-df-quickchart-complete:disabled,\n",
              "  .colab-df-quickchart-complete:disabled:hover {\n",
              "    background-color: var(--disabled-bg-color);\n",
              "    fill: var(--disabled-fill-color);\n",
              "    box-shadow: none;\n",
              "  }\n",
              "\n",
              "  .colab-df-spinner {\n",
              "    border: 2px solid var(--fill-color);\n",
              "    border-color: transparent;\n",
              "    border-bottom-color: var(--fill-color);\n",
              "    animation:\n",
              "      spin 1s steps(1) infinite;\n",
              "  }\n",
              "\n",
              "  @keyframes spin {\n",
              "    0% {\n",
              "      border-color: transparent;\n",
              "      border-bottom-color: var(--fill-color);\n",
              "      border-left-color: var(--fill-color);\n",
              "    }\n",
              "    20% {\n",
              "      border-color: transparent;\n",
              "      border-left-color: var(--fill-color);\n",
              "      border-top-color: var(--fill-color);\n",
              "    }\n",
              "    30% {\n",
              "      border-color: transparent;\n",
              "      border-left-color: var(--fill-color);\n",
              "      border-top-color: var(--fill-color);\n",
              "      border-right-color: var(--fill-color);\n",
              "    }\n",
              "    40% {\n",
              "      border-color: transparent;\n",
              "      border-right-color: var(--fill-color);\n",
              "      border-top-color: var(--fill-color);\n",
              "    }\n",
              "    60% {\n",
              "      border-color: transparent;\n",
              "      border-right-color: var(--fill-color);\n",
              "    }\n",
              "    80% {\n",
              "      border-color: transparent;\n",
              "      border-right-color: var(--fill-color);\n",
              "      border-bottom-color: var(--fill-color);\n",
              "    }\n",
              "    90% {\n",
              "      border-color: transparent;\n",
              "      border-bottom-color: var(--fill-color);\n",
              "    }\n",
              "  }\n",
              "</style>\n",
              "\n",
              "      <script>\n",
              "        async function quickchart(key) {\n",
              "          const quickchartButtonEl =\n",
              "            document.querySelector('#' + key + ' button');\n",
              "          quickchartButtonEl.disabled = true;  // To prevent multiple clicks.\n",
              "          quickchartButtonEl.classList.add('colab-df-spinner');\n",
              "          try {\n",
              "            const charts = await google.colab.kernel.invokeFunction(\n",
              "                'suggestCharts', [key], {});\n",
              "          } catch (error) {\n",
              "            console.error('Error during call to suggestCharts:', error);\n",
              "          }\n",
              "          quickchartButtonEl.classList.remove('colab-df-spinner');\n",
              "          quickchartButtonEl.classList.add('colab-df-quickchart-complete');\n",
              "        }\n",
              "        (() => {\n",
              "          let quickchartButtonEl =\n",
              "            document.querySelector('#df-973b45fa-dfb4-4e3b-a1e7-555a035a88e1 button');\n",
              "          quickchartButtonEl.style.display =\n",
              "            google.colab.kernel.accessAllowed ? 'block' : 'none';\n",
              "        })();\n",
              "      </script>\n",
              "    </div>\n",
              "\n",
              "  <div id=\"id_ea77ab23-6215-435a-a219-04fc54180867\">\n",
              "    <style>\n",
              "      .colab-df-generate {\n",
              "        background-color: #E8F0FE;\n",
              "        border: none;\n",
              "        border-radius: 50%;\n",
              "        cursor: pointer;\n",
              "        display: none;\n",
              "        fill: #1967D2;\n",
              "        height: 32px;\n",
              "        padding: 0 0 0 0;\n",
              "        width: 32px;\n",
              "      }\n",
              "\n",
              "      .colab-df-generate:hover {\n",
              "        background-color: #E2EBFA;\n",
              "        box-shadow: 0px 1px 2px rgba(60, 64, 67, 0.3), 0px 1px 3px 1px rgba(60, 64, 67, 0.15);\n",
              "        fill: #174EA6;\n",
              "      }\n",
              "\n",
              "      [theme=dark] .colab-df-generate {\n",
              "        background-color: #3B4455;\n",
              "        fill: #D2E3FC;\n",
              "      }\n",
              "\n",
              "      [theme=dark] .colab-df-generate:hover {\n",
              "        background-color: #434B5C;\n",
              "        box-shadow: 0px 1px 3px 1px rgba(0, 0, 0, 0.15);\n",
              "        filter: drop-shadow(0px 1px 2px rgba(0, 0, 0, 0.3));\n",
              "        fill: #FFFFFF;\n",
              "      }\n",
              "    </style>\n",
              "    <button class=\"colab-df-generate\" onclick=\"generateWithVariable('data')\"\n",
              "            title=\"Generate code using this dataframe.\"\n",
              "            style=\"display:none;\">\n",
              "\n",
              "  <svg xmlns=\"http://www.w3.org/2000/svg\" height=\"24px\"viewBox=\"0 0 24 24\"\n",
              "       width=\"24px\">\n",
              "    <path d=\"M7,19H8.4L18.45,9,17,7.55,7,17.6ZM5,21V16.75L18.45,3.32a2,2,0,0,1,2.83,0l1.4,1.43a1.91,1.91,0,0,1,.58,1.4,1.91,1.91,0,0,1-.58,1.4L9.25,21ZM18.45,9,17,7.55Zm-12,3A5.31,5.31,0,0,0,4.9,8.1,5.31,5.31,0,0,0,1,6.5,5.31,5.31,0,0,0,4.9,4.9,5.31,5.31,0,0,0,6.5,1,5.31,5.31,0,0,0,8.1,4.9,5.31,5.31,0,0,0,12,6.5,5.46,5.46,0,0,0,6.5,12Z\"/>\n",
              "  </svg>\n",
              "    </button>\n",
              "    <script>\n",
              "      (() => {\n",
              "      const buttonEl =\n",
              "        document.querySelector('#id_ea77ab23-6215-435a-a219-04fc54180867 button.colab-df-generate');\n",
              "      buttonEl.style.display =\n",
              "        google.colab.kernel.accessAllowed ? 'block' : 'none';\n",
              "\n",
              "      buttonEl.onclick = () => {\n",
              "        google.colab.notebook.generateWithVariable('data');\n",
              "      }\n",
              "      })();\n",
              "    </script>\n",
              "  </div>\n",
              "\n",
              "    </div>\n",
              "  </div>\n"
            ],
            "application/vnd.google.colaboratory.intrinsic+json": {
              "type": "dataframe",
              "variable_name": "data"
            }
          },
          "metadata": {}
        }
      ]
    },
    {
      "cell_type": "markdown",
      "source": [
        "# Eksplorasi Data"
      ],
      "metadata": {
        "id": "JZSOX9cBaj_b"
      }
    },
    {
      "cell_type": "code",
      "source": [
        "data.shape #untuk mengetahui bentuk dataset(baris & kolom)"
      ],
      "metadata": {
        "colab": {
          "base_uri": "https://localhost:8080/"
        },
        "id": "e2LT3W6bQz2_",
        "outputId": "1eccf02c-bbca-408e-df7d-14b5f28bb43a"
      },
      "execution_count": 8,
      "outputs": [
        {
          "output_type": "execute_result",
          "data": {
            "text/plain": [
              "(147269, 5)"
            ]
          },
          "metadata": {},
          "execution_count": 8
        }
      ]
    },
    {
      "cell_type": "code",
      "source": [
        "data.columns #untuk mengetahui kolom-kolom yang ada pada dataset"
      ],
      "metadata": {
        "colab": {
          "base_uri": "https://localhost:8080/"
        },
        "id": "csILjRwqQ8Eq",
        "outputId": "83c4471c-d620-4c61-bb72-2cb56bd9bc59"
      },
      "execution_count": 9,
      "outputs": [
        {
          "output_type": "execute_result",
          "data": {
            "text/plain": [
              "Index(['Unnamed: 0', 'Name', 'Gender', 'Count', 'Probability'], dtype='object')"
            ]
          },
          "metadata": {},
          "execution_count": 9
        }
      ]
    },
    {
      "cell_type": "code",
      "source": [
        "data.dtypes #untuk mengetahui tipe data dari masing-masing kolom"
      ],
      "metadata": {
        "colab": {
          "base_uri": "https://localhost:8080/",
          "height": 241
        },
        "id": "0GX3efykQ__D",
        "outputId": "015378d9-30ce-447b-bdf1-6df8024108a6"
      },
      "execution_count": 10,
      "outputs": [
        {
          "output_type": "execute_result",
          "data": {
            "text/plain": [
              "Unnamed: 0       int64\n",
              "Name            object\n",
              "Gender          object\n",
              "Count            int64\n",
              "Probability    float64\n",
              "dtype: object"
            ],
            "text/html": [
              "<div>\n",
              "<style scoped>\n",
              "    .dataframe tbody tr th:only-of-type {\n",
              "        vertical-align: middle;\n",
              "    }\n",
              "\n",
              "    .dataframe tbody tr th {\n",
              "        vertical-align: top;\n",
              "    }\n",
              "\n",
              "    .dataframe thead th {\n",
              "        text-align: right;\n",
              "    }\n",
              "</style>\n",
              "<table border=\"1\" class=\"dataframe\">\n",
              "  <thead>\n",
              "    <tr style=\"text-align: right;\">\n",
              "      <th></th>\n",
              "      <th>0</th>\n",
              "    </tr>\n",
              "  </thead>\n",
              "  <tbody>\n",
              "    <tr>\n",
              "      <th>Unnamed: 0</th>\n",
              "      <td>int64</td>\n",
              "    </tr>\n",
              "    <tr>\n",
              "      <th>Name</th>\n",
              "      <td>object</td>\n",
              "    </tr>\n",
              "    <tr>\n",
              "      <th>Gender</th>\n",
              "      <td>object</td>\n",
              "    </tr>\n",
              "    <tr>\n",
              "      <th>Count</th>\n",
              "      <td>int64</td>\n",
              "    </tr>\n",
              "    <tr>\n",
              "      <th>Probability</th>\n",
              "      <td>float64</td>\n",
              "    </tr>\n",
              "  </tbody>\n",
              "</table>\n",
              "</div><br><label><b>dtype:</b> object</label>"
            ]
          },
          "metadata": {},
          "execution_count": 10
        }
      ]
    },
    {
      "cell_type": "markdown",
      "source": [
        "# missin values"
      ],
      "metadata": {
        "id": "SMCwAgrdaafu"
      }
    },
    {
      "cell_type": "code",
      "source": [
        "import pandas as pd\n",
        "\n",
        "# Asumsikan data sudah dimuat ke dalam variabel `data`\n",
        "# (Jika belum, bisa pakai ucimlrepo seperti sebelumnya)\n",
        "\n",
        "# 1. Deteksi baris yang memiliki missing value\n",
        "rows_with_missing = data[data.isnull().any(axis=1)]\n",
        "\n",
        "# 2. Tampilkan baris yang memiliki nilai kosong\n",
        "print(\"Rows with Missing Values:\")\n",
        "print(rows_with_missing)\n",
        "\n",
        "# 3. Deteksi missing value per sel\n",
        "missing_values = data.isnull()\n",
        "\n",
        "# 4. Hitung jumlah missing value di setiap kolom\n",
        "missing_counts = missing_values.sum()\n",
        "\n",
        "# 5. Tampilkan total missing value per kolom\n",
        "print(\"\\nMissing Value Counts:\")\n",
        "print(missing_counts)\n",
        "\n",
        "# 6. Tampilkan total keseluruhan missing value (opsional)\n",
        "print(f\"\\nTotal Missing Values in Dataset: {missing_counts.sum()}\")"
      ],
      "metadata": {
        "colab": {
          "base_uri": "https://localhost:8080/"
        },
        "id": "uZqvpJH6RF58",
        "outputId": "87936761-3c17-461e-d927-5e7645c7f24b"
      },
      "execution_count": 23,
      "outputs": [
        {
          "output_type": "stream",
          "name": "stdout",
          "text": [
            "Rows with Missing Values:\n",
            "Empty DataFrame\n",
            "Columns: [Name, Gender, Count, Probability]\n",
            "Index: []\n",
            "\n",
            "Missing Value Counts:\n",
            "Name           0\n",
            "Gender         0\n",
            "Count          0\n",
            "Probability    0\n",
            "dtype: int64\n",
            "\n",
            "Total Missing Values in Dataset: 0\n"
          ]
        }
      ]
    },
    {
      "cell_type": "markdown",
      "source": [
        "# Data Outlier atau tidak"
      ],
      "metadata": {
        "id": "Nh-0hG-Qafmh"
      }
    },
    {
      "cell_type": "code",
      "source": [
        "import seaborn as sns\n",
        "import matplotlib.pyplot as plt\n",
        "\n",
        "# Boxplot untuk kolom 'count'\n",
        "plt.figure(figsize=(10, 4))\n",
        "sns.boxplot(x=data['Count'])\n",
        "plt.title('Boxplot Jumlah Kemunculan Nama (count)')\n",
        "plt.xlabel('Count')\n",
        "plt.show()\n",
        "\n",
        "# Boxplot untuk kolom 'probability'\n",
        "plt.figure(figsize=(10, 4))\n",
        "sns.boxplot(x=data['Probability'])\n",
        "plt.title('Boxplot Probabilitas Gender')\n",
        "plt.xlabel('Probability')\n",
        "plt.show()\n"
      ],
      "metadata": {
        "colab": {
          "base_uri": "https://localhost:8080/",
          "height": 803
        },
        "collapsed": true,
        "id": "IAMqyGbcRL5h",
        "outputId": "3db46eda-d943-45be-b667-0ec650bb4c49"
      },
      "execution_count": 15,
      "outputs": [
        {
          "output_type": "display_data",
          "data": {
            "text/plain": [
              "<Figure size 1000x400 with 1 Axes>"
            ],
            "image/png": "[encoded data removed]"
          },
          "metadata": {}
        },
        {
          "output_type": "display_data",
          "data": {
            "text/plain": [
              "<Figure size 1000x400 with 1 Axes>"
            ],
            "image/png": "[encoded data removed]"
          },
          "metadata": {}
        }
      ]
    },
    {
      "cell_type": "markdown",
      "source": [
        "# Visualisasi"
      ],
      "metadata": {
        "id": "UuROlxIXaW-i"
      }
    },
    {
      "cell_type": "code",
      "source": [
        "# Visualisasi distribusi fitur dengan histogram\n",
        "plt.figure(figsize=(12, 10))\n",
        "data.hist(bins=30, figsize=(15, 10), color='blue')\n",
        "plt.suptitle('Distribusi Fitur')\n",
        "plt.show()"
      ],
      "metadata": {
        "colab": {
          "base_uri": "https://localhost:8080/",
          "height": 947
        },
        "id": "kINpYBUbVC9l",
        "outputId": "5b6fef83-6223-4d99-9d65-dab8933cd63c"
      },
      "execution_count": 24,
      "outputs": [
        {
          "output_type": "display_data",
          "data": {
            "text/plain": [
              "<Figure size 1200x1000 with 0 Axes>"
            ]
          },
          "metadata": {}
        },
        {
          "output_type": "display_data",
          "data": {
            "text/plain": [
              "<Figure size 1500x1000 with 4 Axes>"
            ],
            "image/png": "[encoded data removed]"
          },
          "metadata": {}
        }
      ]
    },
    {
      "cell_type": "markdown",
      "source": [
        "# sebelum Preprocessing"
      ],
      "metadata": {
        "id": "HD1UzloSaVPG"
      }
    },
    {
      "cell_type": "code",
      "source": [
        "from ucimlrepo import fetch_ucirepo\n",
        "import pandas as pd\n",
        "\n",
        "# Ambil dataset Gender by Name dari UCI (ID: 591)\n",
        "gender_data = fetch_ucirepo(id=591)\n",
        "\n",
        "# Ambil data sebagai DataFrame\n",
        "data = gender_data.data.original\n",
        "\n",
        "# Tampilkan 20 baris pertama sebelum preprocessing\n",
        "print(\"Sebelum Preprocessing:\")\n",
        "print(data.head(20))"
      ],
      "metadata": {
        "colab": {
          "base_uri": "https://localhost:8080/"
        },
        "id": "o_Z75bhnRfiT",
        "outputId": "e053a25f-f075-4a3d-f05f-d23fc8d78a94"
      },
      "execution_count": 16,
      "outputs": [
        {
          "output_type": "stream",
          "name": "stdout",
          "text": [
            "Sebelum Preprocessing:\n",
            "           Name Gender    Count  Probability\n",
            "0         James      M  5304407     0.014517\n",
            "1          John      M  5260831     0.014398\n",
            "2        Robert      M  4970386     0.013603\n",
            "3       Michael      M  4579950     0.012534\n",
            "4       William      M  4226608     0.011567\n",
            "5          Mary      F  4169663     0.011411\n",
            "6         David      M  3787547     0.010366\n",
            "7        Joseph      M  2695970     0.007378\n",
            "8       Richard      M  2638187     0.007220\n",
            "9       Charles      M  2433540     0.006660\n",
            "10       Thomas      M  2381034     0.006516\n",
            "11  Christopher      M  2196198     0.006010\n",
            "12       Daniel      M  2039641     0.005582\n",
            "13      Matthew      M  1738699     0.004758\n",
            "14    Elizabeth      F  1704140     0.004664\n",
            "15     Patricia      F  1608260     0.004401\n",
            "16     Jennifer      F  1584426     0.004336\n",
            "17      Anthony      M  1506437     0.004123\n",
            "18       George      M  1495736     0.004093\n",
            "19        Linda      F  1480592     0.004052\n"
          ]
        }
      ]
    },
    {
      "cell_type": "markdown",
      "source": [
        "# Preprocessing"
      ],
      "metadata": {
        "id": "4EiE7EqDaMMP"
      }
    },
    {
      "cell_type": "code",
      "source": [
        "import pandas as pd\n",
        "from sklearn.feature_extraction.text import TfidfVectorizer\n",
        "\n",
        "# Asumsikan dataset sudah diambil dari UCI\n",
        "from ucimlrepo import fetch_ucirepo\n",
        "gender_data = fetch_ucirepo(id=591)\n",
        "data = gender_data.data.original\n",
        "\n",
        "# ---------------- PREPROCESSING ---------------- #\n",
        "\n",
        "# 1. Ubah ke huruf kecil dan hapus karakter non-alfabet\n",
        "data['Name'] = data['Name'].str.lower().str.replace(r'[^a-z]', '', regex=True)\n",
        "\n",
        "# 2. Encode label gender (M = 1, F = 0)\n",
        "data['Gender'] = data['Gender'].map({'M': 1, 'F': 0})\n",
        "\n",
        "# 3. Drop baris yang memiliki missing value (jika ada)\n",
        "data = data.dropna()\n",
        "\n",
        "# 4. TF-IDF Vectorizer (fitur berbasis karakter n-gram)\n",
        "vectorizer = TfidfVectorizer(analyzer='char', ngram_range=(2, 4))\n",
        "X = vectorizer.fit_transform(data['Name'])  # fitur\n",
        "y = data['Gender']                         # label"
      ],
      "metadata": {
        "id": "_JtB7DMEWgtl"
      },
      "execution_count": 25,
      "outputs": []
    },
    {
      "cell_type": "markdown",
      "source": [
        "# Modeling: Klasifikasi dengan Naive Bayes"
      ],
      "metadata": {
        "id": "mE5-D6VFZ_A5"
      }
    },
    {
      "cell_type": "code",
      "source": [
        "from sklearn.model_selection import train_test_split\n",
        "from sklearn.naive_bayes import MultinomialNB\n",
        "from sklearn.metrics import classification_report, confusion_matrix, accuracy_score\n",
        "\n",
        "# 1. Split data\n",
        "X_train, X_test, y_train, y_test = train_test_split(X, y, test_size=0.2, random_state=42)\n",
        "\n",
        "# 2. Buat dan latih model Naive Bayes\n",
        "model = MultinomialNB()\n",
        "model.fit(X_train, y_train)\n",
        "\n",
        "# 3. Prediksi\n",
        "y_pred = model.predict(X_test)\n",
        "\n",
        "# 4. Evaluasi\n",
        "print(\"=== Akurasi ===\")\n",
        "print(accuracy_score(y_test, y_pred))\n",
        "\n",
        "print(\"\\n=== Classification Report ===\")\n",
        "print(classification_report(y_test, y_pred, target_names=['Perempuan', 'Laki-laki']))\n",
        "\n",
        "print(\"\\n=== Confusion Matrix ===\")\n",
        "print(confusion_matrix(y_test, y_pred))\n"
      ],
      "metadata": {
        "colab": {
          "base_uri": "https://localhost:8080/"
        },
        "id": "o4Yl_q4DWq08",
        "outputId": "ddb7b580-e7c1-4bcc-8c74-43b3636313db"
      },
      "execution_count": 26,
      "outputs": [
        {
          "output_type": "stream",
          "name": "stdout",
          "text": [
            "=== Akurasi ===\n",
            "0.7303931554288042\n",
            "\n",
            "=== Classification Report ===\n",
            "              precision    recall  f1-score   support\n",
            "\n",
            "   Perempuan       0.74      0.85      0.79     18029\n",
            "   Laki-laki       0.70      0.54      0.61     11425\n",
            "\n",
            "    accuracy                           0.73     29454\n",
            "   macro avg       0.72      0.70      0.70     29454\n",
            "weighted avg       0.73      0.73      0.72     29454\n",
            "\n",
            "\n",
            "=== Confusion Matrix ===\n",
            "[[15339  2690]\n",
            " [ 5251  6174]]\n"
          ]
        }
      ]
    },
    {
      "cell_type": "markdown",
      "source": [
        "# percobaan dengan data baru"
      ],
      "metadata": {
        "id": "Rw7t2T9gZ8jI"
      }
    },
    {
      "cell_type": "code",
      "source": [
        "nama_baru = ['rahel', 'alex', 'indah', 'david']\n",
        "X_new = vectorizer.transform(nama_baru)\n",
        "prediksi = model.predict(X_new)\n",
        "\n",
        "for nama, hasil in zip(nama_baru, prediksi):\n",
        "    print(f\"{nama} → {'Laki-laki' if hasil == 1 else 'Perempuan'}\")"
      ],
      "metadata": {
        "colab": {
          "base_uri": "https://localhost:8080/"
        },
        "id": "l5rYQxeCW3C1",
        "outputId": "f964f07b-31cb-4ad3-8277-5c630ec967a1"
      },
      "execution_count": 27,
      "outputs": [
        {
          "output_type": "stream",
          "name": "stdout",
          "text": [
            "rahel → Perempuan\n",
            "alex → Perempuan\n",
            "indah → Perempuan\n",
            "david → Laki-laki\n"
          ]
        }
      ]
    },
    {
      "cell_type": "markdown",
      "source": [
        "# Evaluasi model tersebut"
      ],
      "metadata": {
        "id": "vYnHgzfQZ4tz"
      }
    },
    {
      "cell_type": "code",
      "source": [
        "from sklearn.metrics import accuracy_score, classification_report, confusion_matrix\n",
        "import seaborn as sns\n",
        "import matplotlib.pyplot as plt\n",
        "\n",
        "# 1. Akurasi\n",
        "acc = accuracy_score(y_test, y_pred)\n",
        "print(f\"Accuracy: {acc:.4f}\")\n",
        "\n",
        "# 2. Classification report\n",
        "print(\"\\nClassification Report:\")\n",
        "print(classification_report(y_test, y_pred, target_names=[\"Perempuan\", \"Laki-laki\"]))\n",
        "\n",
        "# 3. Confusion Matrix\n",
        "cm = confusion_matrix(y_test, y_pred)\n",
        "\n",
        "# Visualisasi confusion matrix\n",
        "plt.figure(figsize=(6, 4))\n",
        "sns.heatmap(cm, annot=True, fmt='d', cmap='Blues',\n",
        "            xticklabels=[\"Perempuan\", \"Laki-laki\"],\n",
        "            yticklabels=[\"Perempuan\", \"Laki-laki\"])\n",
        "plt.title(\"Confusion Matrix\")\n",
        "plt.xlabel(\"Predicted Label\")\n",
        "plt.ylabel(\"True Label\")\n",
        "plt.show()\n"
      ],
      "metadata": {
        "colab": {
          "base_uri": "https://localhost:8080/",
          "height": 618
        },
        "id": "_tQcgSIhXA-p",
        "outputId": "cc60d866-b59c-49e1-886a-45c18df7bd7e"
      },
      "execution_count": 28,
      "outputs": [
        {
          "output_type": "stream",
          "name": "stdout",
          "text": [
            "Accuracy: 0.7304\n",
            "\n",
            "Classification Report:\n",
            "              precision    recall  f1-score   support\n",
            "\n",
            "   Perempuan       0.74      0.85      0.79     18029\n",
            "   Laki-laki       0.70      0.54      0.61     11425\n",
            "\n",
            "    accuracy                           0.73     29454\n",
            "   macro avg       0.72      0.70      0.70     29454\n",
            "weighted avg       0.73      0.73      0.72     29454\n",
            "\n"
          ]
        },
        {
          "output_type": "display_data",
          "data": {
            "text/plain": [
              "<Figure size 600x400 with 2 Axes>"
            ],
            "image/png": "[encoded data removed]"
          },
          "metadata": {}
        }
      ]
    }
  ]
}